{
 "cells": [
  {
   "cell_type": "markdown",
   "id": "eb8cf4fe",
   "metadata": {},
   "source": [
    "---\n",
    "title: Introduction to Computational Chemistry with Psi4\n",
    "authors:\n",
    "  - name: Author Name\n",
    "    email: example@cuny.edu\n",
    "    affiliations:\n",
    "      - ror: 00g2xk477\n",
    "      - institution: CUNY – Hunter College\n",
    "      - department: Chemistry\n",
    "date: 2024-01-01\n",
    "numbering:\n",
    "  heading_2: true\n",
    "  heading_3: true\n",
    "---"
   ]
  },
  {
   "cell_type": "markdown",
   "id": "bf2837cb",
   "metadata": {},
   "source": [
    "### Purpose"
   ]
  },
  {
   "cell_type": "markdown",
   "id": "76ade965",
   "metadata": {},
   "source": [
    "In this lab, we'll be using a library called [Psi4](https://psicode.org/) to perform some _ab initio_ calculations on atoms and small molecules. You'll see how to use Psi4 to make simple calculations of energy, geometry, and vibrational modes, as well as seeing how to display this data and compare some computational methods. "
   ]
  },
  {
   "cell_type": "markdown",
   "id": "1fcf8fc6",
   "metadata": {},
   "source": [
    "### Library import\n",
    "We import all the required Python libraries"
   ]
  },
  {
   "cell_type": "code",
   "execution_count": null,
   "id": "10564733",
   "metadata": {},
   "outputs": [],
   "source": [
    "# File handling\n",
    "from pathlib import Path\n",
    "\n",
    "# Data manipulation\n",
    "import numpy as np\n",
    "import scipy as sp\n",
    "\n",
    "# Visualizations\n",
    "import matplotlib as mpl\n",
    "import matplotlib.pyplot as plt\n",
    "%matplotlib inline\n",
    "plt.style.use('seaborn-v0_8-notebook')\n",
    "mpl.rcParams['axes.spines.right'] = False\n",
    "mpl.rcParams['axes.spines.top'] = False"
   ]
  },
  {
   "cell_type": "markdown",
   "id": "22eb54f3",
   "metadata": {},
   "source": [
    ":::{note} \n",
    "The block of code below initializes Psi4 and gets rid of any leftover files from the previous run. \n",
    ":::"
   ]
  },
  {
   "cell_type": "code",
   "execution_count": null,
   "id": "b52d2db3",
   "metadata": {},
   "outputs": [],
   "source": [
    "# Psi4 library\n",
    "import psi4\n",
    "for x in Path().glob('psi.*.clean'): x.unlink() \n",
    "\n",
    "psi4.core.be_quiet()"
   ]
  },
  {
   "cell_type": "markdown",
   "id": "29709569",
   "metadata": {},
   "source": [
    "## Problem I"
   ]
  },
  {
   "cell_type": "markdown",
   "id": "57832450",
   "metadata": {},
   "source": [
    "Below is the general setup for a Psi4 calculation."
   ]
  },
  {
   "cell_type": "code",
   "execution_count": null,
   "id": "c790541b",
   "metadata": {},
   "outputs": [],
   "source": [
    "# Sample HF/STO-3G H atom Computation\n",
    "\n",
    "# Begin by defining the geometry of the system. \n",
    "h_atom = psi4.geometry('H')\n",
    "\n",
    "basis = 'sto-3g'\n",
    "psi4.set_options({\n",
    "                 'reference': 'uhf',\n",
    "                 })"
   ]
  },
  {
   "cell_type": "markdown",
   "id": "7f016282",
   "metadata": {},
   "source": [
    "In the next cell, we tell Psi4 to calculate the energy of the system and save the energy and wavefunction to variables. We then extract the number of basis functions (`nbf`) from the wavefunction data. "
   ]
  },
  {
   "cell_type": "code",
   "execution_count": null,
   "id": "bb33e282",
   "metadata": {},
   "outputs": [],
   "source": [
    "# Input the code from the manual below and execute it. \n",
    "# It should print out the energy and number of basis functions. "
   ]
  },
  {
   "cell_type": "markdown",
   "id": "9ce91920",
   "metadata": {},
   "source": [
    "### Basis set comparison"
   ]
  },
  {
   "cell_type": "markdown",
   "id": "83f8331a",
   "metadata": {},
   "source": [
    "Below, we'll set up our loop to calculate energies with a variety of basis functions. You can set the value for `basis` as your loop variable and iterate the loop over a list of strings (the basis function names). "
   ]
  },
  {
   "cell_type": "code",
   "execution_count": null,
   "id": "499d56c1",
   "metadata": {},
   "outputs": [],
   "source": [
    "# Create your loop here"
   ]
  },
  {
   "cell_type": "markdown",
   "id": "3a296cac",
   "metadata": {},
   "source": [
    "### Method/basis comparison"
   ]
  },
  {
   "cell_type": "markdown",
   "id": "8a26038b",
   "metadata": {},
   "source": [
    "In the following cells, we calculate the energy with several methods and basis sets, saving each into lists stored in a dictionary. Each method is assigned as a dictionary key and the value is the basis set energies saved as a list. The number of basis functions are saved to a separate list called `bs_size`. The next cell shows the student how to display dictionary data in tabular format, and the following cell shows that tabular data in a Markdown cell. "
   ]
  },
  {
   "cell_type": "code",
   "execution_count": null,
   "id": "e055fd96",
   "metadata": {},
   "outputs": [],
   "source": [
    "# Fill in the missing information for `methods` and `bases`\n",
    "\n",
    "methods = \n",
    "bases = \n",
    "hydrogen_energies = dict()\n",
    "\n",
    "for method in methods:\n",
    "    if method not in hydrogen_energies:\n",
    "        hydrogen_energies[method] = []\n",
    "        bs_size = []\n",
    "    for basis in bases:\n",
    "        energy, wfn = psi4.energy(method + '/' + basis, return_wfn=True)\n",
    "        bs_size.append(wfn.basisset().nbf())\n",
    "        hydrogen_energies[method].append(energy)\n",
    "\n",
    "hydrogen_energies"
   ]
  },
  {
   "cell_type": "code",
   "execution_count": null,
   "id": "1a1b56fc",
   "metadata": {},
   "outputs": [],
   "source": [
    "# As students often look for a way to nicely print tabular data, here is a brief example. \n",
    "from tabulate import tabulate \n",
    "table = tabulate(hydrogen_energies, headers='keys', tablefmt='html')"
   ]
  },
  {
   "cell_type": "markdown",
   "id": "d6c4de48",
   "metadata": {},
   "source": [
    "Evaluate this cell to see the code used to render the table created above. \n",
    "\n",
    "{eval}`table`"
   ]
  },
  {
   "cell_type": "markdown",
   "id": "7c141dcf",
   "metadata": {},
   "source": [
    "In the next cell, the data from the prior dictionary is plotted using a simple loop over the dictionary keys. The horizontal line represents the analytic solution for the molecule. "
   ]
  },
  {
   "cell_type": "code",
   "execution_count": null,
   "id": "6e111d6d",
   "metadata": {},
   "outputs": [],
   "source": [
    "for method in methods:\n",
    "    plt.plot(bs_size, hydrogen_energies[method], label=method)\n",
    "\n",
    "plt.axhline(y=-0.5, linestyle='--')\n",
    "plt.legend()"
   ]
  },
  {
   "cell_type": "markdown",
   "id": "cef65598",
   "metadata": {},
   "source": [
    "## Problem II"
   ]
  },
  {
   "cell_type": "markdown",
   "id": "cacfe05d",
   "metadata": {},
   "source": [
    "### Hydrofluoric acid bond length"
   ]
  },
  {
   "cell_type": "markdown",
   "id": "285bd26e",
   "metadata": {},
   "source": [
    "The cell below sets up almost everything for your hydrofluoric acid bond scan. You'll need to fill in values for `method` and `basis`. "
   ]
  },
  {
   "cell_type": "code",
   "execution_count": null,
   "id": "ed9a4426",
   "metadata": {},
   "outputs": [],
   "source": [
    "# HF molecule geometry curve\n",
    "\n",
    "method =\n",
    "basis = \n",
    "\n",
    "# Use f-strings to fill in values for method, basis\n",
    "# 'H 1 r' means connect 'H' to the first atom with a vector of length 'r'\n",
    "# We will define 'r' later. \n",
    "hf_bond = psi4.geometry(f\"\"\"\n",
    "F \n",
    "H 1 r\n",
    " \n",
    "\"\"\")"
   ]
  },
  {
   "cell_type": "code",
   "execution_count": null,
   "id": "4f6ab4eb",
   "metadata": {},
   "outputs": [],
   "source": [
    "# Set the bond to 1.0 atomic unit and perform the energy calculation.\n",
    "# Be sure to save the wavefunction data in addition to the energy. "
   ]
  },
  {
   "cell_type": "code",
   "execution_count": null,
   "id": "8ce37d3f",
   "metadata": {},
   "outputs": [],
   "source": [
    "# Display all the variables available from this calculation\n",
    "wfn.variables()"
   ]
  },
  {
   "cell_type": "code",
   "execution_count": null,
   "id": "3c10fcef",
   "metadata": {},
   "outputs": [],
   "source": [
    "# Print out the variable data for 'CURRENT DIPOLE' \n",
    "# (or 'current dipole', case doesn't matter)\n"
   ]
  },
  {
   "cell_type": "markdown",
   "id": "b90587e7",
   "metadata": {},
   "source": [
    "Next, you'll do a series of energy calculations called a bond scan (or potential energy surface, PES) scan. "
   ]
  },
  {
   "cell_type": "code",
   "execution_count": null,
   "id": "19c8beaf",
   "metadata": {},
   "outputs": [],
   "source": [
    "# Set up your bond scan loop below\n"
   ]
  },
  {
   "cell_type": "code",
   "execution_count": null,
   "id": "58e0ae85",
   "metadata": {},
   "outputs": [],
   "source": [
    "# Plot your data, then find and print the minimum energy corresponding bond length. "
   ]
  },
  {
   "cell_type": "markdown",
   "id": "cc0b7628",
   "metadata": {},
   "source": [
    "### HF atomization energy"
   ]
  },
  {
   "cell_type": "markdown",
   "id": "0bde77e4",
   "metadata": {},
   "source": [
    "Perform your calculations of atomization energy below. "
   ]
  },
  {
   "cell_type": "code",
   "execution_count": null,
   "id": "39e8ff94",
   "metadata": {},
   "outputs": [],
   "source": []
  },
  {
   "cell_type": "markdown",
   "id": "d82dfef0",
   "metadata": {},
   "source": [
    "### HF dipole moment"
   ]
  },
  {
   "cell_type": "markdown",
   "id": "1e066196",
   "metadata": {},
   "source": [
    "If you saved the dipole moments in your loop above, go ahead and use them. If not, set up a calculation loop again and save the dipole moments from the wavefunction outputs of the energy calculation. Find the dipole moment at the equilibrium bond length. "
   ]
  },
  {
   "cell_type": "code",
   "execution_count": null,
   "id": "d6e4c535",
   "metadata": {},
   "outputs": [],
   "source": [
    "# Plot the dipole moment against the bond length and print the \n",
    "# dipole moment at the minimum energy bond length. "
   ]
  },
  {
   "cell_type": "markdown",
   "id": "63aa6b0b",
   "metadata": {},
   "source": [
    "### Repeat using PBE0 for the method"
   ]
  },
  {
   "cell_type": "markdown",
   "id": "4f3f6561",
   "metadata": {},
   "source": [
    "Perform the requisite calculations below using different variable names. When finished, compare the resultant plots and values against the data obtained using the Hartree-Fock method previously used. "
   ]
  },
  {
   "cell_type": "code",
   "execution_count": null,
   "id": "08cc8bc6",
   "metadata": {},
   "outputs": [],
   "source": [
    "# Perform calculations below"
   ]
  },
  {
   "cell_type": "markdown",
   "id": "deca0432",
   "metadata": {},
   "source": [
    "## Problem III: Hydronium cation"
   ]
  },
  {
   "cell_type": "code",
   "execution_count": null,
   "id": "2d1ce9a0",
   "metadata": {},
   "outputs": [],
   "source": [
    "# We need a few extra libraries for the next step. \n",
    "import cclib # computational chemistry library to translate formats\n",
    "import json # create a JSON object from the cclib data\n",
    "import openchemistry as oc # helpful display utilities for molecular data"
   ]
  },
  {
   "cell_type": "markdown",
   "id": "1cdc8a4b",
   "metadata": {},
   "source": [
    "### Planar geometry calculations"
   ]
  },
  {
   "cell_type": "markdown",
   "id": "2e10b279",
   "metadata": {},
   "source": [
    "In the next cell, we do several new steps to prepare for molecular visualizations. First, we need to specify a log file for the calculations, then tell Psi4 to save the results of our calculation (until now, we've been storing the results of our small calculations in temporary memory). Once we set up the log file, we'll perform a geometry optimization using `psi4.optimize()`, then calculate the vibrational frequencies in the system with `psi4.frequency()`. Finally, in order to properly parse the log file, we'll print a closing line to it and close the file. "
   ]
  },
  {
   "cell_type": "code",
   "execution_count": null,
   "id": "7cdfb5a1",
   "metadata": {},
   "outputs": [],
   "source": [
    "# H3O+, planar geometry calcs\n",
    "\n",
    "# For this calculation, we want to save the output file for later retrieval\n",
    "# Set a folder name and file name.\n",
    "outfolder = Path(\n",
    "outfolder.mkdir(exist_ok=True) # Create a new directory, no error if it already exists\n",
    "outfile = Path(outfolder, # fill in a filename\n",
    "# Remove old file if it exists \n",
    "outfile.unlink(missing_ok=True)\n",
    "# Make sure Psi4 prints the outfile and all required components are present\n",
    "psi4.set_output_file(outfile, append=True, print_header=True)\n",
    "\n",
    "# Now we set up the molecule\n",
    "charge = \n",
    "multp = \n",
    "\n",
    "method =\n",
    "basis = \n",
    "\n",
    "# Read in the contents of our geometry file\n",
    "with open('inputs/geom_planar.xyz', 'r') as f:\n",
    "    planar_geom = f.read()\n",
    "\n",
    "# Again, use f-strings to fill in values for charge, multp, geometry, etc.\n",
    "planar_h3o = psi4.geometry(f\"\"\"\n",
    "{charge} {multp}\n",
    "\n",
    "{planar_geom}\n",
    "\n",
    "\"\"\")\n",
    "\n",
    "## Set options and run the geometry optimization\n",
    "# This lets us avoid calling the basis for each calculation step.\n",
    "# Must set reference to 'uhf' or 'rhf' to get IR intensities.\n",
    "psi4.set_options({\n",
    "    'reference': 'rhf',\n",
    "    'basis': basis})\n",
    "\n",
    "psi4.optimize(method)\n",
    "\n",
    "# Now calculate the vibrational frequencies for the system\n",
    "psi4.frequency(method)\n",
    "\n",
    "# Close the outfile with success line \n",
    "if type(psi4.variable('current energy')) is float:\n",
    "    psi4.extras.exit_printing(success=True)\n",
    "    psi4.core.close_outfile()"
   ]
  },
  {
   "cell_type": "markdown",
   "id": "eaae363f",
   "metadata": {},
   "source": [
    "The next cell uses `cclib`, a library for parsing computational chemistry files, to convert our Psi4 file to a general use format called \"Chemical JSON\". We'll use this file in the following cell to create an OpenChemistry `Molecule` object which implements a number of visualization methods. "
   ]
  },
  {
   "cell_type": "code",
   "execution_count": null,
   "id": "7f29c2b7",
   "metadata": {},
   "outputs": [],
   "source": [
    "# Import and parse Psi4 data with cclib \n",
    "planar_log = cclib.io.ccread(outfile)\n",
    "\n",
    "# Display some information about our log file, make sure the import succeeded\n",
    "for key, value in planar_log.metadata.items():\n",
    "    print(f'{key:18}: {value}')"
   ]
  },
  {
   "cell_type": "code",
   "execution_count": null,
   "id": "2a8a7e52",
   "metadata": {},
   "outputs": [],
   "source": [
    "# Convert cclib data to cJSON output that OpenChemistry can understand\n",
    "cjsonfile = outfile.with_suffix('.cjson')\n",
    "# cclib doesn't yet work with Path objects, so we convert it to a string\n",
    "cclib.io.ccwrite(planar_log, outputtype='cjson', outputdest=str(cjsonfile))\n",
    "\n",
    "with open(cjsonfile) as f:\n",
    "    planar_cjson = json.load(f)\n",
    "    \n",
    "planar_mol = oc.load(planar_cjson)"
   ]
  },
  {
   "cell_type": "markdown",
   "id": "d2b77408",
   "metadata": {},
   "source": [
    "Now that we have an OpenChemistry Molecule, we'll do some visualization and retrieve some of the information about it. During the import process, cclib converts some of the calculation data to alternate units. Energies are converted to electron volts (eV). "
   ]
  },
  {
   "cell_type": "code",
   "execution_count": null,
   "id": "0e89945d",
   "metadata": {},
   "outputs": [],
   "source": [
    "print(f'The total energy of the molecule is {planar_mol.properties.data()['energy']['total']:0.4f} eV.')\n",
    "planar_mol.structure.show()"
   ]
  },
  {
   "cell_type": "markdown",
   "id": "9b922452",
   "metadata": {},
   "source": [
    "The default representation of the molecule doesn't define any bonds. In the next cell, we will define bonds between the central oxygen atom (atom 0) and each of the hydrogen atoms. "
   ]
  },
  {
   "cell_type": "code",
   "execution_count": null,
   "id": "a365f23f",
   "metadata": {},
   "outputs": [],
   "source": [
    "## For visualization purposes, create bonds between oxygen and all other atoms\n",
    "# Atoms are numbered consecutively from 0 in the order they're listed in the \n",
    "# input file. We want bonds from the first atom (oxygen, number \"0\") to each\n",
    "# other atom. \n",
    "planar_mol.structure.data()['bonds'] = {'connections': {'index': [0, 1,\n",
    "                                                                0, 2,\n",
    "                                                                0, 3]}}\n",
    "# Set all bonds to order 1 (single bonds)\n",
    "planar_mol.structure.data()['bonds']['order'] = [1, 1, 1]"
   ]
  },
  {
   "cell_type": "markdown",
   "id": "92271d7d",
   "metadata": {},
   "source": [
    "The next cell renames a couple of the cclib variables so the OpenChemistry visualizer recognizes the fields. Details are given in the code comments below. "
   ]
  },
  {
   "cell_type": "code",
   "execution_count": null,
   "id": "3a309b61",
   "metadata": {},
   "outputs": [],
   "source": [
    "## Need to edit the vibrational data that comes in from cclib\n",
    "# Need to rename 'displacement' to 'eigenVectors' so that OpenChemistry can \n",
    "# recognize it. Also need to reshape the array (group by vibrational mode).\n",
    "planar_mol.vibrations.data()['eigenVectors'] = \\\n",
    "    np.array(\n",
    "        planar_mol.vibrations.data()['displacement']).reshape(\n",
    "            len(planar_mol.vibrations.data()['frequencies'])\n",
    "            , -1\n",
    "        ).tolist()\n",
    "\n",
    "# Change 'intensities' to contain _only_ IR data, throw out Raman information\n",
    "planar_mol.vibrations.data()['intensities'] = planar_mol.vibrations.data()['intensities'].pop('IR')\n",
    "\n",
    "# Add enumerated list of 'modes' for OC to reference\n",
    "planar_mol.vibrations.data()['modes'] = list(range(0, (len(planar_mol.vibrations.data()['intensities']))))"
   ]
  },
  {
   "cell_type": "markdown",
   "id": "e645840b",
   "metadata": {},
   "source": [
    "In the next three cells, we will get to view the information about the molecule. The first cell displays a 3D representation of the molecule. You can use the mouse to rotate the molecule (click and drag), or to zoom in and out using the scroll wheel. \n",
    "\n",
    "The second cell shows a summary of the molecular vibrations and gives the IR intensity of each. Using the visualization in the third cell, you can click on the lines in the spectrum to see which vibration results in that spectral line. Some of the vibrations overlap, so you'll have to manually select them. Click on the vertical ellipsis ($\\scriptsize\\vdots$) in the upper right corner of the visualization to reveal the menu. Select each of the six normal modes to see the vibrational mode and the location of its spectral line. "
   ]
  },
  {
   "cell_type": "code",
   "execution_count": null,
   "id": "d2f4f556",
   "metadata": {},
   "outputs": [],
   "source": [
    "# Show the molecule\n",
    "planar_mol.structure.show()"
   ]
  },
  {
   "cell_type": "code",
   "execution_count": null,
   "id": "4eb2ba29",
   "metadata": {},
   "outputs": [],
   "source": [
    "# Print out a table of information about the IR vibrational modes\n",
    "planar_mol.vibrations.table()"
   ]
  },
  {
   "cell_type": "code",
   "execution_count": null,
   "id": "04bb3d95",
   "metadata": {},
   "outputs": [],
   "source": [
    "planar_mol.vibrations.show()"
   ]
  },
  {
   "cell_type": "markdown",
   "id": "7d7fe652",
   "metadata": {},
   "source": [
    "### Repeat the above steps with data from the Pyramidal structure"
   ]
  },
  {
   "cell_type": "markdown",
   "id": "a141694e",
   "metadata": {},
   "source": [
    "Using the same steps with the `geom_pyramidal.xyz` file in the Pyramidal folder, run the  calculation, import the new output file using `cclib`, convert it to a cJSON file and then import that with `oc.load()`, and fix the bonds. Then display the molecule, list the vibration table, and visualize the vibrations.\n",
    "\n",
    "You'll want to change the name of the data from `planar_mol` to something else (I recommend something understandable, such as `pyramidal_mol`. `pyr_mol` will also work in a pinch.). Anywhere you referenced `planar_mol` in the last section needs to be changed to reference the new data. "
   ]
  },
  {
   "cell_type": "code",
   "execution_count": null,
   "id": "86fd6f7c",
   "metadata": {},
   "outputs": [],
   "source": []
  },
  {
   "cell_type": "markdown",
   "id": "6c16f326",
   "metadata": {},
   "source": [
    "### Potential-Energy Surface Scan"
   ]
  },
  {
   "cell_type": "markdown",
   "id": "daa9a6c1",
   "metadata": {},
   "source": [
    "To start, we need to measure the bond length of the O-H bond in the pyramidal structure. We will make a function to extract the atomic coordinates from the dictionary of information about a molecule (`atom_coords()`). We'll then define a function called `bond_length()` which will take a pair of coordinates as input and output a distance. Since the SciPy library already has an optimized function for this task, we will just \"rebrand\" it."
   ]
  },
  {
   "cell_type": "code",
   "execution_count": null,
   "id": "fb7a64e0",
   "metadata": {},
   "outputs": [],
   "source": [
    "# Define bond_length() function using the SciPy Euclidian distance function\n",
    "from scipy.spatial import distance\n",
    "def bond_length(atom1,atom2):\n",
    "    '''Calculate distance between two objects in space'''\n",
    "    dist = distance.euclidean(atom1, atom2)\n",
    "    return dist\n",
    "\n",
    "\n",
    "# Define a function to make a matrix of coordinates for all atoms in a molecule\n",
    "def atom_coords(molecule): \n",
    "    '''Takes an openchemistry._molecule.Molecule and pulls atomic coordinates \n",
    "        out as a 3 x N array of xyz coordinates. '''\n",
    "    atom_info = molecule.structure.data()['atoms']\n",
    "    coord_list = atom_info['coords']['3d']\n",
    "    n_atoms = atom_info['elements']['atom count']\n",
    "    return np.array(coord_list).reshape(n_atoms,-1)\n",
    " "
   ]
  },
  {
   "cell_type": "markdown",
   "id": "668253c5",
   "metadata": {},
   "source": [
    "Now, insert the name of your pyramidal molecule into the `atom_coords()` function and execute the cell to print out the length of the O-H bond in this molecule. "
   ]
  },
  {
   "cell_type": "code",
   "execution_count": null,
   "id": "aa0cd2fe",
   "metadata": {},
   "outputs": [],
   "source": [
    "# Take the 3N length list of atomic coordinates and split it by the number of \n",
    "# atoms in our molecule\n",
    "atom_locs = atom_coords(pyramidal_mol)\n",
    "\n",
    "# Now, we print out the result with a (more) reasonable number of significant \n",
    "# figures using the string formatting rule `:.4` to output four figures after \n",
    "# the decimal. \n",
    "\n",
    "OH_bond_length = bond_length(atom_locs[0],atom_locs[1])\n",
    "print(f'The length of the O-H bond is {OH_bond_length:.4f} Angstrom')"
   ]
  },
  {
   "cell_type": "markdown",
   "id": "ac8bbe04",
   "metadata": {},
   "source": [
    "The H{sub}`3`O{sup}`\\+` molecule is initialized below using the $z$-matrix file discussed in the lab guide. You'll need to set the values for `charge`, `multp`, `method`, and `basis`, as well as setting the `outfile` location. "
   ]
  },
  {
   "cell_type": "code",
   "execution_count": null,
   "id": "cbc4857f",
   "metadata": {},
   "outputs": [],
   "source": [
    "# H3O+, PES scan\n",
    "\n",
    "# Make a new outfile for the PES scan data.\n",
    "outfile = Path(outfolder, # add a file name here\n",
    "\n",
    "# Remove old file if it exists \n",
    "outfile.unlink(missing_ok=True)\n",
    "# Make sure Psi4 prints the outfile and all required components are present\n",
    "psi4.set_output_file(outfile, append=True, print_header=True)\n",
    "\n",
    "charge = \n",
    "multp = \n",
    "\n",
    "# Read in the contents of our geometry file\n",
    "with open('inputs/h3o.zmat', 'r') as f:\n",
    "    h3o_zmat = f.read()\n",
    "\n",
    "method = \n",
    "basis = \n",
    "\n",
    "# Use f-strings to fill in values for charge, basis, geometry\n",
    "# 'H 1 r' means connect 'H' to the first atom with a vector of length 'r'\n",
    "# We will define 'r' later. \n",
    "h3o = psi4.geometry(f\"\"\"\n",
    "{charge} {multp}\n",
    "\n",
    "{h3o_zmat}\n",
    "\"\"\")\n",
    "\n",
    "h3o.a = OH_bond_length\n",
    "\n",
    "psi4.set_options({\n",
    "                 'basis': basis,\n",
    "                 })"
   ]
  },
  {
   "cell_type": "markdown",
   "id": "6c4d00b7",
   "metadata": {},
   "source": [
    "In the next cell, set up the loop to scan the H-O-X bond angle between 90° and 135°. Make sure to save the energies to a list so you can plot the values agains the angle. Also remember that Psi4 reports energies in atomic units ($E_\\textup{h}$), so you'll need to make a conversion before comparing the value to the planar and pyramidal calculations. "
   ]
  },
  {
   "cell_type": "code",
   "execution_count": null,
   "id": "d5ac37a4",
   "metadata": {},
   "outputs": [],
   "source": [
    "# Write a loop to calculate the energy for each HOX angle\n",
    "# in the range (90, 135) in single degree increments\n"
   ]
  },
  {
   "cell_type": "markdown",
   "id": "bd4f22f6",
   "metadata": {},
   "source": [
    "In the next cell, find the minimum value in the PES scan and calculate the difference in energy between the minimum and the local maximum (the energy of the structure at 90 degrees). If you name your variables `min_energy`, `min_angle`, `transition_energy`, and `barrier_energy`, you should be able to evaluate the Markdown cell below and get those values printed within the text. Notice the unit conversion being done for the `planar_mol` energy value (eV $\\rightarrow E_\\text{h}$) You might need to evaluate twice. Use this trick with <code>\\{eval\\}\\`code\\`</code> to embed code outputs in your writing. You can also save plots like this and display them in your discussion. Details on this process are available on the [MyST Markdown user guide](https://mystmd.org/guide/reuse-jupyter-outputs). "
   ]
  },
  {
   "cell_type": "code",
   "execution_count": null,
   "id": "75691cd6",
   "metadata": {},
   "outputs": [],
   "source": [
    "# Find the minimum and transition anergies and the angle a the minimum. \n",
    "# You'll also need to calculate the barrier energy. "
   ]
  },
  {
   "cell_type": "markdown",
   "id": "17e75c99",
   "metadata": {},
   "source": [
    "The minimum energy is {eval}`f'{min_energy:1.4f}'` $E_\\text{h}$, which occurs at {eval}`min_angle`°.\n",
    "The energy of the transition state (at 90°) is {eval}`f'{transition_energy:1.4f}'` $E_\\text{h}$.\n",
    "The optimized energy of the planar ion is {eval}`np.round(planar_mol.properties.data()['energy']['total'], 5) / 27.211` $E_\\text{h}$.\n",
    "The barrier height is {eval}`barrier_energy` $E_\\text{h}$."
   ]
  },
  {
   "cell_type": "markdown",
   "id": "ca2032d6",
   "metadata": {},
   "source": [
    "## Results"
   ]
  },
  {
   "cell_type": "markdown",
   "id": "69012619",
   "metadata": {},
   "source": [
    "Describe and comment the most important results."
   ]
  },
  {
   "cell_type": "markdown",
   "id": "1c2433e8",
   "metadata": {},
   "source": [
    "## Suggested next steps"
   ]
  },
  {
   "cell_type": "markdown",
   "id": "e6562078",
   "metadata": {},
   "source": [
    "State suggested next steps, based on results obtained in this notebook."
   ]
  },
  {
   "cell_type": "markdown",
   "id": "6a7d675f",
   "metadata": {},
   "source": [
    "## References"
   ]
  },
  {
   "cell_type": "markdown",
   "id": "7ca09112",
   "metadata": {},
   "source": [
    "We report here relevant references:\n",
    "1. author1, article1, journal1, year1, url1\n",
    "2. author2, article2, journal2, year2, url2"
   ]
  }
 ],
 "metadata": {
  "kernelspec": {
   "display_name": "Python (PChem Lab)",
   "language": "python",
   "name": "pchem2"
  },
  "language_info": {
   "codemirror_mode": {
    "name": "ipython",
    "version": 3
   },
   "file_extension": ".py",
   "mimetype": "text/x-python",
   "name": "python",
   "nbconvert_exporter": "python",
   "pygments_lexer": "ipython3",
   "version": "3.10.13"
  }
 },
 "nbformat": 4,
 "nbformat_minor": 5
}
