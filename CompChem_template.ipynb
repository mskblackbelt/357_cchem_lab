{
 "cells": [
  {
   "cell_type": "markdown",
   "metadata": {},
   "source": [
    "# Introduction to Computational Chemistry\n",
    "The title of the notebook should be coherent with file name. Namely, file name should be:    \n",
    "*author's initials_progressive number_title.ipynb*    \n",
    "For example:    \n",
    "*EF_01_Data Exploration.ipynb*\n",
    "\n",
    "## Purpose\n",
    "This notebook is designed to help the reader display and understand some basic computational chemistry simulations. \n",
    "\n",
    "## Methodology\n",
    "Quickly describe assumptions and processing steps.\n",
    "\n",
    "## Results\n",
    "Describe and comment the most important results.\n",
    "\n",
    "## Suggested next steps\n",
    "State suggested next steps, based on results obtained in this notebook."
   ]
  },
  {
   "cell_type": "markdown",
   "metadata": {},
   "source": [
    "# Setup\n",
    "\n",
    "## Library import\n",
    "We import all the required Python libraries"
   ]
  },
  {
   "cell_type": "code",
   "execution_count": null,
   "metadata": {
    "ExecuteTime": {
     "end_time": "2019-06-16T14:44:50.874881Z",
     "start_time": "2019-06-16T14:44:38.616867Z"
    }
   },
   "outputs": [],
   "source": [
    "# Data manipulation\n",
    "import numpy as np\n",
    "import scipy as sp\n",
    "import pandas as pd\n",
    "import xarray as xr\n",
    "\n",
    "# Options for pandas\n",
    "pd.options.display.max_columns = 50\n",
    "pd.options.display.max_rows = 30\n",
    "\n",
    "# Visualizations\n",
    "import matplotlib.pyplot as plt\n",
    "import seaborn as sns\n",
    "%matplotlib inline"
   ]
  },
  {
   "cell_type": "markdown",
   "metadata": {},
   "source": [
    "# Parameter definition\n",
    "We set all relevant parameters for our notebook. By convention, parameters are uppercase, while all the \n",
    "other variables follow Python's guidelines."
   ]
  },
  {
   "cell_type": "markdown",
   "metadata": {},
   "source": [
    "# Data import\n",
    "We retrieve all the required data for the analysis."
   ]
  },
  {
   "cell_type": "markdown",
   "metadata": {},
   "source": [
    "# Data processing\n",
    "Put here the core of the notebook. Feel free to further split this section into subsections."
   ]
  },
  {
   "cell_type": "markdown",
   "metadata": {},
   "source": [
    "# Problem 1"
   ]
  },
  {
   "cell_type": "markdown",
   "metadata": {},
   "source": [
    "Begin by creating a list of basis functions, the number of basis functions in them, and the total energy calculated with that basis. "
   ]
  },
  {
   "cell_type": "code",
   "execution_count": null,
   "metadata": {},
   "outputs": [],
   "source": [
    "# Fill in the values in the DataFrame below:\n",
    "hf_data = pd.DataFrame({'Method'           : ['STO-3G', 'cc-pVDZ', 'cc-pVTZ', 'cc-pVQZ'],\n",
    "                        'Total energy (Ha)': [,\n",
    "                                              ,\n",
    "                                              ,\n",
    "                                              ],\n",
    "                        'Basis set size':    [, , , ]})\n",
    "hf_data"
   ]
  },
  {
   "cell_type": "code",
   "execution_count": null,
   "metadata": {},
   "outputs": [],
   "source": [
    "hf_data.plot(x='Basis set size', y='Total energy (Ha)')"
   ]
  },
  {
   "cell_type": "code",
   "execution_count": null,
   "metadata": {},
   "outputs": [],
   "source": [
    "## Import an external file (default is comma-separated). Manually define the \n",
    "# field separator as any grouping of whitespace (tabs, spaces, line endings, etc.).\n",
    "method_comp = pd.read_csv('Problem_1/performance.dat', delim_whitespace=True)\n",
    "method_comp "
   ]
  },
  {
   "cell_type": "code",
   "execution_count": null,
   "metadata": {},
   "outputs": [],
   "source": [
    "# Create a set of axes to reuse for each plot\n",
    "ax = plt.gca()\n",
    "\n",
    "# Plot data from each 'Method' group on the `ax` object\n",
    "for key, grp in method_comp.groupby(['Method']):\n",
    "    grp.plot(x='#BS',y='E[Ha]', label=key, ax=ax)\n",
    "plt.legend(loc='best')    \n",
    "plt.show()"
   ]
  },
  {
   "cell_type": "markdown",
   "metadata": {},
   "source": [
    "# Problem 2"
   ]
  },
  {
   "cell_type": "markdown",
   "metadata": {},
   "source": [
    "After going through steps 1 and 2 in the manual, you should have a directory for each bond distance and a file named `dist_E.dat` filled with bond distances and energies. We will import that file the same way we imported the output from the script in the last problem (try the import yourself). Pressing \"Shift + Tab\" while inside a method will give you extended information on that method, including any additional options. For this import, you may want to use the option for `index_col` to set the `dist` column as your index for the dataframe. "
   ]
  },
  {
   "cell_type": "code",
   "execution_count": null,
   "metadata": {},
   "outputs": [],
   "source": [
    "# Import data from `dist_E.dat`"
   ]
  },
  {
   "cell_type": "markdown",
   "metadata": {},
   "source": [
    "To plot your results, take the dataframe you created and use the `dataframe.plot()` method on it, explicitely identifying your *x* and *y* variables. \n",
    "\n",
    "You may also use the Pandas method [`dataframe.idxmin()`](https://pandas.pydata.org/docs/reference/api/pandas.DataFrame.idxmin.html) to explicitely return the minimum value of an axis (the Pandas term for individual columns of data) and the index of that axis. If you set `index_col` earlier, this should output a distance and energy for the minimum. "
   ]
  },
  {
   "cell_type": "code",
   "execution_count": null,
   "metadata": {},
   "outputs": [],
   "source": [
    "#Plot the bond distance vs. total energy and output the minimum distance and energy"
   ]
  },
  {
   "cell_type": "code",
   "execution_count": null,
   "metadata": {},
   "outputs": [],
   "source": [
    "# Calculate \\Delta H_{at} for the molecule, print out the result"
   ]
  },
  {
   "cell_type": "code",
   "execution_count": null,
   "metadata": {},
   "outputs": [],
   "source": [
    "## Grab data on dipoles from the original files. You can do this a few ways:\n",
    "#     - Search through each file, copy and paste the results\n",
    "#     - Run a loop using the last few lines in the `run_scan.sh` script\n",
    "#       to grab the files more quickly. Enter the values into the list below.\n",
    "#     - Modify the `run_scan.sh` script directly to output a column of values for \n",
    "#       the dipoles. Your dataframe will already contain the data in that case.\n",
    "#\n",
    "# If you used one of the first two options, you can add a new column (in the form \n",
    "# of a list)to an existing dataframe by calling the name of the new column and \n",
    "# setting it equal to your values (in list form) like so: df['ColName'] = valList\n",
    "# \n",
    "# Finally, plot the bond distance vs. the dipole"
   ]
  },
  {
   "cell_type": "markdown",
   "metadata": {},
   "source": [
    "Repeat these last few cells using the data you produced in Step 5 of the lab (the only difference will be the files where the PBE1PBE data are found). "
   ]
  },
  {
   "cell_type": "markdown",
   "metadata": {},
   "source": [
    "# Problem 3 - WORK IN PROGRESS"
   ]
  },
  {
   "cell_type": "markdown",
   "metadata": {},
   "source": [
    "After running the planar H<sub>3</sub>O<sup>+</sup> molecule, we need to visualize the results. Many desktop programs are capable of doing this, including GaussView (part of the Gaussian software distribution), but there are also some Python libraries that can extract data from the output and help us visualize the information right here in the Jupyter notebook. "
   ]
  },
  {
   "cell_type": "code",
   "execution_count": null,
   "metadata": {},
   "outputs": [],
   "source": [
    "#Tool to work with Gaussian output\n",
    "import cclib\n",
    "\n",
    "# Viewing module so we can see results inline\n",
    "# import nglview as nv\n",
    "import avogadro as avo\n",
    "import openchemistry as oc\n",
    "import json"
   ]
  },
  {
   "cell_type": "markdown",
   "metadata": {},
   "source": [
    "# References\n",
    "We report here relevant references:\n",
    "1. author1, article1, journal1, year1, url1\n",
    "2. author2, article2, journal2, year2, url2"
   ]
  },
  {
   "cell_type": "code",
   "execution_count": null,
   "metadata": {},
   "outputs": [],
   "source": []
  }
 ],
 "metadata": {
  "kernelspec": {
   "display_name": "Python 3",
   "language": "python",
   "name": "python3"
  },
  "language_info": {
   "codemirror_mode": {
    "name": "ipython",
    "version": 3
   },
   "file_extension": ".py",
   "mimetype": "text/x-python",
   "name": "python",
   "nbconvert_exporter": "python",
   "pygments_lexer": "ipython3",
   "version": "3.7.7"
  }
 },
 "nbformat": 4,
 "nbformat_minor": 4
}
