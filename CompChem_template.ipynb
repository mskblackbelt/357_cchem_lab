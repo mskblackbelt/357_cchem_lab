{
 "cells": [
  {
   "cell_type": "markdown",
   "metadata": {},
   "source": [
    "# Introduction to Computational Chemistry\n",
    "The title of the notebook should be coherent with file name. Namely, file name should be:    \n",
    "*author's initials_progressive number_title.ipynb*    \n",
    "For example:    \n",
    "*DW_compchem.ipynb*\n",
    "\n",
    "## Purpose\n",
    "This notebook is designed to help the reader display and understand some basic computational chemistry simulations. \n",
    "\n",
    "## Methodology\n",
    "Quickly describe assumptions and processing steps.\n",
    "\n",
    "## Results\n",
    "Describe and comment the most important results.\n",
    "\n",
    "## Suggested next steps\n",
    "State suggested next steps, based on results obtained in this notebook."
   ]
  },
  {
   "cell_type": "markdown",
   "metadata": {},
   "source": [
    "# Setup\n",
    "\n",
    "## Library import\n",
    "\n",
    "We import all the required Python libraries. Don't change any lines in the cell below. It must be executed at the start of every session to ensure all your tools are available. "
   ]
  },
  {
   "cell_type": "code",
   "execution_count": null,
   "metadata": {
    "ExecuteTime": {
     "end_time": "2019-06-16T14:44:50.874881Z",
     "start_time": "2019-06-16T14:44:38.616867Z"
    }
   },
   "outputs": [],
   "source": [
    "# Data manipulation\n",
    "import numpy as np\n",
    "import scipy as sp\n",
    "import pandas as pd\n",
    "import xarray as xr\n",
    "\n",
    "# Options for pandas\n",
    "pd.options.display.max_columns = 50\n",
    "pd.options.display.max_rows = 30\n",
    "\n",
    "# Visualizations\n",
    "import matplotlib.pyplot as plt\n",
    "import seaborn as sns\n",
    "%matplotlib inline",
    "\n",
    "# Set notebook environmental variables for Gaussian",
    "%env GAUSS_SCRDIR=/scrach-data/g16-scratch",
    "%env GAUSS_EXEDIR=/usr/bin/g16/bsd:/usr/bin/g16",
    "%env GAUSS_LEXEDIR=/usr/bin/g16/linda-exe",
    "%env GAUSS_ARCHDIR=/usr/bin/g16/arch",
    "%env GAUSS_BSDDIR=/usr/bin/g16/bsd",
    "%env GV_DIR=/usr/bin/gv",
    "%env G16BASIS=/usr/bin/g16/basis"
   ]
  },
  {
   "cell_type": "markdown",
   "metadata": {},
   "source": [
    "# Parameter definition\n",
    "\n",
    "We set all relevant parameters for our notebook. By convention, parameters are uppercase, while all the other variables follow Python's guidelines.\n",
    "\n",
    "This section isn't important for this lab, as we will be doing this as we go along. For future work, and for better organization, you would want use this structure to keep things clearly organized. "
   ]
  },
  {
   "cell_type": "markdown",
   "metadata": {},
   "source": [
    "# Data import\n",
    "\n",
    "We retrieve all the required data for the analysis. Again, we won't be using this section separately in this lab, but it is generally useful to collect all your data ahead of time. "
   ]
  },
  {
   "cell_type": "markdown",
   "metadata": {},
   "source": [
    "# Data processing\n",
    "Put here the core of the notebook. Feel free to further split this section into subsections."
   ]
  },
  {
   "cell_type": "markdown",
   "metadata": {},
   "source": [
    "## Problem 1\n",
    "\n",
    "Begin by creating a list of basis functions, the number of basis functions in them, and the total energy calculated with that basis. \n",
    "\n",
    "Fill in the values in the [dictionary object][dict-help] below. These values will be used to form a DataFrame, an object from the [`pandas` library][pandas-home] that is useful for holding various types of numeric and textual data for analysis. \n",
    "\n",
    "[dict-help]: https://docs.python.org/3/tutorial/datastructures.html?#dictionaries\n",
    "[pandas-home]: https://pandas.pydata.org/docs/"
   ]
  },
  {
   "cell_type": "code",
   "execution_count": null,
   "metadata": {},
   "outputs": [],
   "source": [
    "## Fill in the values in the dictionary object below. \n",
    "data_dict = {'Method' : ['STO-3G', 'cc-pVDZ', 'cc-pVTZ', 'cc-pVQZ'],\n",
    "             'Total energy (Ha)' : [ ,\n",
    "                                     ,\n",
    "                                     ,\n",
    "                                     ],\n",
    "             'Basis set size':    [ , , , ]}\n",
    "hf_data = pd.DataFrame(data=data_dict)\n",
    "hf_data"
   ]
  },
  {
   "cell_type": "markdown",
   "metadata": {},
   "source": [
    "The next cell will call on the `plot()` method of the DataFrame object we created. The optional arguments for `x` and `y` allow us to choose specific columns to graph. The default just creates one line for each column plotted against the index (_i.e.,_ line number).  "
   ]
  },
  {
   "cell_type": "code",
   "execution_count": null,
   "metadata": {},
   "outputs": [],
   "source": [
    "hf_data.plot(x='Basis set size', y='Total energy (Ha)')"
   ]
  },
  {
   "cell_type": "markdown",
   "metadata": {},
   "source": [
    "After running the file `performance.sh`, you'll need to import the summary data from the results. To do this, we use the `read_csv()` function from `pandas`. This function pulls data from text files and automatically parses that data into a dataframe. "
   ]
  },
  {
   "cell_type": "code",
   "execution_count": null,
   "metadata": {},
   "outputs": [],
   "source": [
    "## Import an external file (default is comma-separated). Manually define the \n",
    "# field separator as any grouping of whitespace (tabs, multiple spaces, etc.).\n",
    "method_comp = pd.read_csv('Problem_1/performance.dat', delim_whitespace=True)\n",
    "method_comp "
   ]
  },
  {
   "cell_type": "markdown",
   "metadata": {},
   "source": [
    "Finally, to plot all of the methods against each other, we need to group the data in our dataframe (`df.groupby(['Column name'])`), then plot each group separately on a set of axes. We will also add a legend to the figure, the display it. "
   ]
  },
  {
   "cell_type": "code",
   "execution_count": null,
   "metadata": {},
   "outputs": [],
   "source": [
    "# Create a set of axes to reuse for each plot\n",
    "ax = plt.gca()\n",
    "\n",
    "# Plot data from each 'Method' group on the `ax` object\n",
    "for key, grp in method_comp.groupby(['Method']):\n",
    "    grp.plot(x='#BS',y='E[Ha]', label=key, ax=ax)\n",
    "plt.legend(loc='best')    \n",
    "plt.show()"
   ]
  },
  {
   "cell_type": "markdown",
   "metadata": {},
   "source": [
    "## Problem 2"
   ]
  },
  {
   "cell_type": "markdown",
   "metadata": {},
   "source": [
    "After going through steps 1 and 2 in the manual, you should have a directory for each bond distance and a file named `dist_E.dat` filled with bond distances and energies. We will import that file the same way we imported the output from the script in the last problem (try the import yourself). Pressing \"Shift + Tab\" while inside a method will give you extended information on that method, including any additional options. For this import, you can use the [`index_col` parameter from the `read_csv` function][idxcol-help] to set the `'dist'` column as your index for the dataframe. \n",
    "\n",
    "[idxcol-help]: https://pandas.pydata.org/docs/reference/api/pandas.read_csv.html?highlight=read_csv"
   ]
  },
  {
   "cell_type": "code",
   "execution_count": null,
   "metadata": {},
   "outputs": [],
   "source": [
    "# Import data from `dist_E.dat` using the same method as in Problem 1"
   ]
  },
  {
   "cell_type": "markdown",
   "metadata": {},
   "source": [
    "To plot your results, take the dataframe you created and use the `plt.plot()` method on it.\n",
    "\n",
    "Additionally, you may also use the Pandas [method `df.idxmin()`][idxmin-help] to explicitely return the minimum value of an axis (the Pandas term for individual columns of data) and the index of that axis. Using this on a particular column of your data (_e.g.,_ `hf_dist[\"E[Ha]\"].idxmin()`) will give you the index of the minimum value. You can then take this index and get the falue of the dataframe in that row for a particular column by using the [`df.at`][at-help] method.\n",
    "\n",
    "Note: a method is just a function that belongs to a specific object (in this case, a DataFrame). The two terms are essentially synonymous, and I'll probably get sloppy and interchange them. \n",
    "\n",
    "[idxmin-help]: https://pandas.pydata.org/docs/reference/api/pandas.DataFrame.idxmin.html\n",
    "[at-help]: https://pandas.pydata.org/docs/reference/api/pandas.DataFrame.at.html",
   ]
  },
  {
   "cell_type": "code",
   "execution_count": null,
   "metadata": {},
   "outputs": [],
   "source": [
    "#Plot the bond distance vs. total energy and output the minimum distance and energy"
   ]
  },
  {
   "cell_type": "markdown",
   "metadata": {},
   "source": [
    "Now you need to calculate $\\Delta H_\\textrm{at}$ for this molecule. You can use Python as a calculator. A single calculation on the final line of a cell will return the answer to that calculation. You can force output on multiple lines or calculations by wrapping the calculation in `print()`. \n",
    "\n",
    "For example, `print(4+2)` returns `6`. You can assign numbers to variables by typing `variable = number`. I could assign the speed of light to a variable by inputting `c = 2.9979 * 10**7`. Then, it can be used in calculations like any number (`print(5 * c)` would return  1.49895e7. \n",
    "\n",
    "I recommend setting variables for for the various energies of the HF molecule and the hydrogen and fluorine atoms, then setting the difference to another variable, and finally printing the result of that variable. "
   ]
  },
  {
   "cell_type": "code",
   "execution_count": null,
   "metadata": {},
   "outputs": [],
   "source": [
    "# Calculate \\Delta H_{at} for the molecule, print out the result"
   ]
  },
  {
   "cell_type": "markdown",
   "metadata": {},
   "source": [
    "Grab data on dipoles from the original files. You can do this a few ways:\n",
    " - Search through each file, copy and paste the results \n",
    " - Run a loop using the last few lines in the `run_scan.sh` script to grab the files more quickly. Enter the values into the list below.\n",
    " - Use the `grep` program (one-liner in the lab) to get the data. If you dissect this, you can make a modification in the first part that will grab dipoles from _every_ file at once, rather than from one at a time. \n",
    " - Modify the `run_scan.sh` script to output a column of values for the dipoles. Your dataframe will already contain the data in that case.\n",
    "\n",
    "If you used one of the first three options, you can add a new column (in the form \n",
    "of a list)to an existing dataframe by calling the name of the new column and \n",
    "setting it equal to your values (in list form) like so: `df['ColName'] = valList`\n",
    "\n",
    "Finally, plot the bond distance vs. the dipole. "
   ]
  },
  {
   "cell_type": "code",
   "execution_count": null,
   "metadata": {},
   "outputs": [],
   "source": [
    "## Try outputting the list of dipoles using the grep one-liner \n",
    "# from the manual in this cell, then use the following cell to \n",
    "# save it as a Python variable. The output of the `grep` function\n",
    "# is a list already, you just need to assign it a name. \n",
    "!grep "
   ]
  },
  {
   "cell_type": "code",
   "execution_count": null,
   "metadata": {},
   "outputs": [],
   "source": [
    "# Input dipole information, then plot the bond distance vs. the dipole moment. \n",
    "list_name = !grep #Place your search filter here\n",
    "plt.plot(x= , y= )"
   ]
  },
  {
   "cell_type": "markdown",
   "metadata": {},
   "source": [
    "Repeat these last few cells using the data you produced in Step 5 of the lab (the only difference should be the file locations for the PBE1PBE data). "
   ]
  },
  {
   "cell_type": "markdown",
   "metadata": {},
   "source": [
    "## Problem 3"
   ]
  },
  {
   "cell_type": "markdown",
   "metadata": {},
   "source": [
    "After running the planar H<sub>3</sub>O<sup>+</sup> molecule, we need to visualize the results. Many desktop programs are capable of doing this, including GaussView (part of the Gaussian software distribution), but there are also some Python libraries that can extract data from the output and help us visualize the information right here in the Jupyter notebook. "
   ]
  },
  {
   "cell_type": "code",
   "execution_count": null,
   "metadata": {},
   "outputs": [],
   "source": [
    "# Tools to work directly with Gaussian output. \n",
    "# OpenChemistry has a viewing module so we can see results inline.\n",
    "import cclib # Note, cclib translates to units of eV when it parses input. \n",
    "import json\n",
    "import openchemistry as oc"
   ]
  },
  {
   "cell_type": "markdown",
   "metadata": {},
   "source": [
    "We will start by importing and parsing our data using `cclib`. Set the location of the logfile for your calculation on the planar molecule below and see the printed metadata in the output. The next cell converts the `cclib` import to the cJSON format, a standard being promoted by the [OpenChemistry Project][openchem-home]. The [OpenChemistry python library][oc-py] can read the cJSON file and help us visualize a number of properties. \n",
    "\n",
    "The variable `logfile` should be set to the name and location of the `input.log` file from your pyramidal calculation. In the next cell, the variable `cjsonfile` should be set to the same folder and a new file with the extension `.cjson`. For example, if your file is in `Problem_3/Pyramidal/input.log`, you might set `cjsonfile` to be `Problem_3/Pyramidal/any-name.cjson`. \n",
    "\n",
    "[openchem-home]: https://www.openchemistry.org\n",
    "[oc-py]: https://github.com/OpenChemistry/openchemistrypy"
   ]
  },
  {
   "cell_type": "code",
   "execution_count": null,
   "metadata": {},
   "outputs": [],
   "source": [
    "# Import and parse Gaussian data with cclib \n",
    "logfile = \"input-filename-here\"\n",
    "planar_log = cclib.io.ccread(logfile)\n",
    "\n",
    "# Display some information about our log file\n",
    "for key, value in planar_log.metadata.items():\n",
    "    print(f'{key:18}: {value}')"
   ]
  },
  {
   "cell_type": "code",
   "execution_count": null,
   "metadata": {},
   "outputs": [],
   "source": [
    "# Convert Gaussian data to cJSON output that OpenChemistry can understand\n",
    "cjsonfile= 'input-new-filename-ending-in.cjson'\n",
    "cclib.io.ccwrite(planar_log,outputtype='cjson',outputdest=cjsonfile)\n",
    "\n",
    "with open(cjsonfile) as f:\n",
    "    planar_cjson = json.load(f)\n",
    "    \n",
    "planar_mol = oc.load(planar_cjson)"
   ]
  },
  {
   "cell_type": "markdown",
   "metadata": {},
   "source": [
    "The next cell outputs the total energy of the molecule (in eV, `cclib` automatically does the conversion of that field). The object inside the `print()` command is called an [f-string][f-string-doc] (or formatted string literals). f-strings allow for the inclusion and formatting of Python objects in printed information. (A string literal in programming is just a collection of characters that are meant to be literal text). \n",
    "\n",
    "Below the printed line with the molecule energy is a visual representation of the molecule. This can be rotated and zoomed with the mouse. Note that the bonds aren't all properly represented… we'll fix this in the following cell. \n",
    "\n",
    "[f-string-doc]: https://docs.python.org/3/reference/lexical_analysis.html#f-strings"
   ]
  },
  {
   "cell_type": "code",
   "execution_count": null,
   "metadata": {},
   "outputs": [],
   "source": [
    "print(f\"The total energy of the molecule is {planar_mol.properties.data()['energy']['total']} eV.\")\n",
    "planar_mol.structure.show()"
   ]
  },
  {
   "cell_type": "markdown",
   "metadata": {},
   "source": [
    "The following two cells do a bit of editing on the incoming data to show the \"bonds\" (remember, bonds don't really exist, they're just a way to represent the overlap of orbitals when atoms get close enough to each other). The second cell rearranges the imported vibrational data so that we can view the vibrations with the visualizer. Don't worry too much about how the second cell works, it's just renaming some columns and reshaping some matrices. "
   ]
  },
  {
   "cell_type": "code",
   "execution_count": null,
   "metadata": {},
   "outputs": [],
   "source": [
    "## For visualization purposes, create bonds between oxygen and all other atoms\n",
    "# atoms are numbered consecutively from 0 in the order they're listed in the \n",
    "# input file. We want bonds from the first atom (oxygen, number \"0\") to each\n",
    "# other atom. \n",
    "planar_mol.structure.data()['bonds']['connections']['index'] = [0, 1,\n",
    "                                                                0, 2,\n",
    "                                                                0, 3]\n",
    "# Set all bonds to order 1 (single bonds)\n",
    "planar_mol.structure.data()['bonds']['order'] = [1, 1, 1]"
   ]
  },
  {
   "cell_type": "code",
   "execution_count": null,
   "metadata": {},
   "outputs": [],
   "source": [
    "## Need to edit the vibrational data that comes in from cclib\n",
    "# Need to rename 'displacement' to 'eigenVectors' so that OpenChemistry can \n",
    "# recognize it. Also need to reshape the array (group by vibrational mode).\n",
    "planar_mol.vibrations.data()['displacement'] = \\\n",
    "    np.array(\n",
    "        planar_mol.vibrations.data()['displacement']).reshape(\n",
    "            len(planar_mol.vibrations.data()['frequencies'])\n",
    "            , -1\n",
    "        ).tolist()\n",
    "planar_mol.vibrations.data()['eigenVectors'] = planar_mol.vibrations.data().pop('displacement')\n",
    "\n",
    "# Change 'intensities' to contain _only_ IR data, throw out Raman information\n",
    "planar_mol.vibrations.data()['intensities'] = planar_mol.vibrations.data()['intensities'].pop('IR')\n",
    "\n",
    "# Add enumerated list of 'modes' for OC to reference\n",
    "planar_mol.vibrations.data()['modes'] = list(range(0, (len(planar_mol.vibrations.data()['intensities']))))"
   ]
  },
  {
   "cell_type": "markdown",
   "metadata": {},
   "source": [
    "In the next three cells, we will get to view the information about the molecule. The first cell displays a 3D representation of the molecule. You can use the mouse to rotate the molecule (click and drag), or to zoom in and out using the scroll wheel. \n",
    "\n",
    "The second cell shows a summary of the molecular vibrations and gives the IR intensity of each. Using the visualization in the third cell, you can click on the lines in the spectrum to see which vibration results in that spectral line. Some of the vibrations overlap, so you'll have to manually select them. Click on the vertical ellipsis ($\\vdots$) in the upper right corner of the visualization to reveal the menu. Select each of the six normal modes to see the vibrational mode and the location of its spectral line. "
   ]
  },
  {
   "cell_type": "code",
   "execution_count": null,
   "metadata": {},
   "outputs": [],
   "source": [
    "# Show the molecule\n",
    "planar_mol.structure.show()"
   ]
  },
  {
   "cell_type": "code",
   "execution_count": null,
   "metadata": {},
   "outputs": [],
   "source": [
    "# Print out a table of information about the IR vibrational modes\n",
    "planar_mol.vibrations.table()"
   ]
  },
  {
   "cell_type": "code",
   "execution_count": null,
   "metadata": {},
   "outputs": [],
   "source": [
    "## Show an interactive display of the vibrational modes. \n",
    "# Select modes via the spectrum on the right (or with the drop-down menu in \n",
    "# the upper right corner. See the motion on the left side. For degenerate (or \n",
    "# nearly degenerate) modes, you'll need to select them with the drop-down menu.\n",
    "planar_mol.vibrations.show()"
   ]
  },
  {
   "cell_type": "markdown",
   "metadata": {},
   "source": [
    "### Repeat the above steps with data from the Pyramidal structure"
   ]
  },
  {
   "cell_type": "markdown",
   "metadata": {},
   "source": [
    "Using the same steps with the `geom_pyramidal.xyz` file in the Pyramidal folder, run the Gaussian calculation with `g16`, import the new `input.log` file using `cclib`, convert it to a cJSON file and then import that with `oc.load()`, and fix the bonds. Then display the molecule, list the vibration table, and visualize the vibrations.\n",
    "\n",
    "You'll want to change the name of the dataframe from `planar_mol` to something else (I recommend something understandable, such as `pyramidal_mol`. `pyr_mol` will also work in a pinch.). Anywhere you referenced `planar_mol` in the last section needs to be changed to reference the new data. "
   ]
  },
  {
   "cell_type": "markdown",
   "metadata": {},
   "source": [
    "### Potential-Energy Surface Scan"
   ]
  },
  {
   "cell_type": "markdown",
   "metadata": {},
   "source": [
    "To start, we need to measure the bond length of the O-H bond in the pyramidal structure. We will make a function to extract the atomic coordinates from the dictionary of information about a molecule (`atom_coords()`). We'll then define a function called `bond_length()` which will take two *xyz-*coordinates as input and output a distance. Since the SciPy library already has an optimized function for this task, we will just \"rebrand\" it."
   ]
  },
  {
   "cell_type": "code",
   "execution_count": null,
   "metadata": {},
   "outputs": [],
   "source": [
    "# Define bond_length() function\n",
    "from scipy.spatial import distance\n",
    "def bond_length(atom1,atom2):\n",
    "    '''Calculate distance between two objects in space'''\n",
    "    dist = distance.euclidean(atom1, atom2)\n",
    "    return dist\n",
    "\n",
    "\n",
    "# Define a function to generate coordinates for all atoms in a molecule\n",
    "def atom_coords(molecule): \n",
    "    '''Takes an openchemistry._molecule.Molecule and pulls atomic coordinates \n",
    "        out as a 3 x N array of xyz coordinates. '''\n",
    "    atom_info = molecule.structure.data()['atoms']\n",
    "    coord_list = atom_info['coords']['3d']\n",
    "    n_atoms = atom_info['elements']['atom count']\n",
    "    return np.array(coord_list).reshape(n_atoms,-1)\n",
    " \n",
    "    "
   ]
  },
  {
   "cell_type": "markdown",
   "metadata": {},
   "source": [
    "Now, insert the name of your pyramidal molecule into the `atom_coords()` function and execute the cell to print out the length of the O-H bond in this molecule. "
   ]
  },
  {
   "cell_type": "code",
   "execution_count": null,
   "metadata": {},
   "outputs": [],
   "source": [
    "# Take the 3N length list of atomic coordinates and split it by the number of \n",
    "# atoms in our molecule\n",
    "atom_locs = atom_coords(insert-molecule-name)\n",
    "\n",
    "# Now, we print out the result with a (more) reasonable number of significant \n",
    "# figures using the string formatting rule `:.4` to output four figures after \n",
    "# the decimal. \n",
    "print(f'The length of the O-H bond is {bond_length(atom_locs[0],atom_locs[1]):.4} Angstrom')"
   ]
  },
  {
   "cell_type": "markdown",
   "metadata": {},
   "source": [
    "At this point, you'll need to edit the input file for the PES scan. Copy (`cp`) the file `input_zmat.com` to `input.com`, then edit `input.com` to insert the O-H bond length at the bottom of the _z_-matrix, as instructed in the lab manual. \n",
    "\n",
    "Again, set the location and name of the `logfile` below and import the data. Notice how many more `methods` are displayed this time. How many do you think there should be? Why?"
   ]
  },
  {
   "cell_type": "code",
   "execution_count": null,
   "metadata": {},
   "outputs": [],
   "source": [
    "#Import data from the PES scan. May need to keep in cclib format\n",
    "logfile = 'insert_filename_here'\n",
    "pes_log = cclib.io.ccread(logfile)\n",
    "\n",
    "# Display some information about our log file\n",
    "for key, value in pes_log.metadata.items():\n",
    "    print(f'{key:18}: {value}')"
   ]
  },
  {
   "cell_type": "markdown",
   "metadata": {},
   "source": [
    "The next cell will create a dataframe of H-O-X angles and calculated energies for viewing. In the following cell, plot the dataframe. Notice that I set the angles to be the index, so you don't need to define `x` and `y` when you plot. "
   ]
  },
  {
   "cell_type": "code",
   "execution_count": null,
   "metadata": {},
   "outputs": [],
   "source": [
    "# Create a list of angles from first (inclusive) to last (exclusive) by step\n",
    "scanangles = np.arange(135,89,-1)\n",
    "\n",
    "# Create a dataframe containing our data. \n",
    "pes_scan = pd.DataFrame(data=pes_log.scanenergies, # data in the collection\n",
    "                        columns=['Energy'], # column labels, as a list\n",
    "                        index=scanangles) # How to index the data (angle list)\n",
    "pes_scan"
   ]
  },
  {
   "cell_type": "code",
   "execution_count": null,
   "metadata": {},
   "outputs": [],
   "source": [
    "# Plot the dataframe created in the last cell (df.plot())\n"
   ]
  },
  {
   "cell_type": "markdown",
   "metadata": {},
   "source": [
    "In the next cell, find the minimum value in the PES scan and calculate the difference in energy between the minimum and the local maximum (the energy of the structure at 90 degrees). You can call the value of the dataframe at a specific index value with `df.loc[value].item()`. The call to `item()` returns only the value of the number. Without that, you will get the series label and type of the number as well. \n",
    "\n",
    "Executing the cell will output a series of statements for your reference. "
   ]
  },
  {
   "cell_type": "code",
   "execution_count": null,
   "metadata": {},
   "outputs": [],
   "source": [
    "min_energy = \n",
    "transition_energy = \n",
    "barrier_energy = transition_energy - min_energy\n",
    "\n",
    "print(f\"The minimum energy is {min_energy} eV, which occurs at {pes_scan.idxmin().item()} degrees.\")\n",
    "print(f\"The energy of the transition state (at 90 degrees) is {transition_energy} eV.\")\n",
    "print(f\"The optimized energy of the planar ion is {planar_mol.properties.data()['energy']['total']} eV.\")\n",
    "print(f\"The barrier height is {barrier_energy} eV.\")"
   ]
  },
  {
   "cell_type": "markdown",
   "metadata": {},
   "source": [
    "### Repeat with MP2 calculations"
   ]
  },
  {
   "cell_type": "markdown",
   "metadata": {},
   "source": [
    "Repeat the calculations for the planar and pyramidal ions and the PES scan using the MP2 level of theory. Compare the results to those obtained with the Hartree-Fock calculations. \n",
    "\n",
    "Be careful to reference the correct file locations as you work. It might also help to rename your objects (dataframes and variables) so that you can reference the Hartree-Fock data and Møller-Plesset data together. \n",
    "\n",
    "When it is time to compare the two methods, you will find the `df.join()` method to be useful. You can view the [help files online][pd-join-help] or press \"Shift + Tab\" while inside the parentheses of the function to view the help file in Jupyter. \n",
    "\n",
    "[pd-join-help]: https://pandas.pydata.org/pandas-docs/stable/reference/api/pandas.DataFrame.join.html"
   ]
  },
  {
   "cell_type": "markdown",
   "metadata": {},
   "source": [
    "# Discussion\n",
    "\n",
    "Use the next cell to discuss your findings. These cells are formatting with [Markdown][jg-md-spec]. This is a lightweight markup language that lets you type understandable markup in plain text without being as clunky as HTML or raw $\\LaTeX$. Of course, it also doesn't have the flexibility of those two languages, but it does well enough for the moment. \n",
    "\n",
    "Raw HTML can be included and it will be rendered correctly. If you want to input $\\LaTeX$ for equations, you can use `$…$` for inline math content and `\\begin{equation}…\\end{equation}` for display equations. More information on Markdown cells (and Jupyter Notebooks) is available from the [Jupyter Notebook help page][jpnb-help]\n",
    "\n",
    "[jg-md-spec]: https://daringfireball.net/projects/markdown/\n",
    "[jpnb-help]: https://jupyter-notebook.readthedocs.io/en/stable/notebook.html#structure-of-a-notebook-document"
   ]
  },
  {
   "cell_type": "markdown",
   "metadata": {},
   "source": [
    "# References\n",
    "We report here relevant references:\n",
    "1. author1, article1, journal1, year1, url1\n",
    "2. author2, article2, journal2, year2, url2"
   ]
  }
 ],
 "metadata": {
  "kernelspec": {
   "display_name": "Python (PChem Lab)",
   "language": "python",
   "name": "pchem2_lab"
  },
  "language_info": {
   "codemirror_mode": {
    "name": "ipython",
    "version": 3
   },
   "file_extension": ".py",
   "mimetype": "text/x-python",
   "name": "python",
   "nbconvert_exporter": "python",
   "pygments_lexer": "ipython3",
   "version": "3.9.9"
  }
 },
 "nbformat": 4,
 "nbformat_minor": 4
}
